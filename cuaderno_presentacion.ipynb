{
 "cells": [
  {
   "cell_type": "markdown",
   "id": "33f994e0",
   "metadata": {},
   "source": [
    "# Introducción\n",
    "\n",
    "[Wikipedia](https://es.wikipedia.org/)"
   ]
  },
  {
   "cell_type": "markdown",
   "id": "ef5767bb",
   "metadata": {},
   "source": [
    "![imagen](https://oci02.img.iteso.mx/Identidades-De-Instancia/ITESO/Logos%20ITESO/Logo-ITESO-Principal.jpg)"
   ]
  },
  {
   "cell_type": "markdown",
   "id": "3e02d580",
   "metadata": {},
   "source": [
    "1. Primer item\n",
    "2. Segundo\n",
    "3. Tercero\n",
    "\n",
    "+ Item no numerado\n",
    "- Segundo Item no numerado"
   ]
  },
  {
   "cell_type": "markdown",
   "id": "fc809176",
   "metadata": {},
   "source": [
    "“““\n",
    "import pandas as pd\n",
    "import numpy as np\n",
    "import matplotlib.pyplot as plt\n",
    "“““"
   ]
  }
 ],
 "metadata": {
  "kernelspec": {
   "display_name": "Python 3 (ipykernel)",
   "language": "python",
   "name": "python3"
  },
  "language_info": {
   "codemirror_mode": {
    "name": "ipython",
    "version": 3
   },
   "file_extension": ".py",
   "mimetype": "text/x-python",
   "name": "python",
   "nbconvert_exporter": "python",
   "pygments_lexer": "ipython3",
   "version": "3.10.10"
  }
 },
 "nbformat": 4,
 "nbformat_minor": 5
}
